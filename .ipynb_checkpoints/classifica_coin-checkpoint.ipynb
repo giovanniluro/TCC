{
 "cells": [
  {
   "cell_type": "markdown",
   "metadata": {},
   "source": [
    "## Criando o Modelo"
   ]
  },
  {
   "cell_type": "code",
   "execution_count": 1,
   "metadata": {},
   "outputs": [
    {
     "name": "stderr",
     "output_type": "stream",
     "text": [
      "Using TensorFlow backend.\n"
     ]
    }
   ],
   "source": [
    "from keras.models import Model\n",
    "from keras.layers import Input, Dense, Conv2D, MaxPooling2D, Flatten\n",
    "from keras.layers import Dropout, SpatialDropout2D\n",
    "from keras.callbacks import ModelCheckpoint\n",
    "from keras.optimizers import SGD\n",
    "from keras.utils import to_categorical\n",
    "import cv2\n",
    "import numpy as np"
   ]
  },
  {
   "cell_type": "code",
   "execution_count": null,
   "metadata": {},
   "outputs": [],
   "source": [
    "def classifica(num):\n",
    "    switcher = {\n",
    "        1: \"Moeda de 1 Real (Anverso), segunda família\",\n",
    "        2: \"Moeda de 1 Real (Verso), primeira família\",\n",
    "        3: \"Moeda de 1 Real (Verso), segunda família\",\n",
    "        4: \"Valor não identificável, Anverso da primeira família\",\n",
    "        5: \"Moeda de 5 Centavos (Anverso), segunda família\",\n",
    "        6: \"Moeda de 5 Centavos (Verso), primeira família\",\n",
    "        7: \"Moeda de 5 Centavos (Verso), segunda família\",\n",
    "        8: \"Moeda de 10 Centavos (Anverso), segunda família\",\n",
    "        9: \"Moeda de 10 Centavos (Verso), primeira família\",\n",
    "        10: \"Moeda de 10 Centavos (Verso), segunda família\",\n",
    "        11: \"Moeda de 25 Centavos (Anverso), primeira família\",\n",
    "        12: \"Moeda de 25 Centavos (Anverso), segunda família\",\n",
    "        13: \"Moeda de 25 Centavos (Verso), primeira família\",\n",
    "        14: \"Moeda de 25 Centavos (Verso), segunda família\",\n",
    "        15: \"Moeda de 50 Centavos (Verso), primeira família\",\n",
    "        16: \"Moeda de 50 Centavos (Anverso), segunda família\",\n",
    "        17: \"Moeda de 50 Centavos (Verso), segunda família\",\n",
    "    }"
   ]
  },
  {
   "cell_type": "code",
   "execution_count": 10,
   "metadata": {},
   "outputs": [],
   "source": [
    "img = cv2.imread(\"C:\\\\Users\\\\giova\\\\Desktop\\\\TCC\\\\Dataset\\\\Normal\\\\2_1.jpg\")"
   ]
  },
  {
   "cell_type": "code",
   "execution_count": 3,
   "metadata": {},
   "outputs": [
    {
     "name": "stderr",
     "output_type": "stream",
     "text": [
      "WARNING: Logging before flag parsing goes to stderr.\n",
      "W1001 14:47:55.359196 10848 deprecation_wrapper.py:119] From C:\\Users\\giova\\Anaconda3\\envs\\cnns\\lib\\site-packages\\keras\\backend\\tensorflow_backend.py:74: The name tf.get_default_graph is deprecated. Please use tf.compat.v1.get_default_graph instead.\n",
      "\n",
      "W1001 14:47:55.416749 10848 deprecation_wrapper.py:119] From C:\\Users\\giova\\Anaconda3\\envs\\cnns\\lib\\site-packages\\keras\\backend\\tensorflow_backend.py:517: The name tf.placeholder is deprecated. Please use tf.compat.v1.placeholder instead.\n",
      "\n",
      "W1001 14:47:55.424656 10848 deprecation_wrapper.py:119] From C:\\Users\\giova\\Anaconda3\\envs\\cnns\\lib\\site-packages\\keras\\backend\\tensorflow_backend.py:4138: The name tf.random_uniform is deprecated. Please use tf.random.uniform instead.\n",
      "\n",
      "W1001 14:47:55.496681 10848 deprecation_wrapper.py:119] From C:\\Users\\giova\\Anaconda3\\envs\\cnns\\lib\\site-packages\\keras\\backend\\tensorflow_backend.py:3976: The name tf.nn.max_pool is deprecated. Please use tf.nn.max_pool2d instead.\n",
      "\n",
      "W1001 14:47:55.532767 10848 deprecation_wrapper.py:119] From C:\\Users\\giova\\Anaconda3\\envs\\cnns\\lib\\site-packages\\keras\\backend\\tensorflow_backend.py:133: The name tf.placeholder_with_default is deprecated. Please use tf.compat.v1.placeholder_with_default instead.\n",
      "\n",
      "W1001 14:47:55.560774 10848 deprecation.py:506] From C:\\Users\\giova\\Anaconda3\\envs\\cnns\\lib\\site-packages\\keras\\backend\\tensorflow_backend.py:3445: calling dropout (from tensorflow.python.ops.nn_ops) with keep_prob is deprecated and will be removed in a future version.\n",
      "Instructions for updating:\n",
      "Please use `rate` instead of `keep_prob`. Rate should be set to `rate = 1 - keep_prob`.\n"
     ]
    }
   ],
   "source": [
    "entrada = Input(shape=(img.shape))\n",
    "conv1 = Conv2D(32, 3, activation='relu')(entrada)\n",
    "max1 = MaxPooling2D()(conv1)\n",
    "conv_drop1 = SpatialDropout2D(0.025)(max1)\n",
    "conv2 = Conv2D(64, 3, activation='relu')(conv_drop1)\n",
    "max2 = MaxPooling2D()(conv2)\n",
    "conv_drop2 = SpatialDropout2D(0.05)(max2)\n",
    "conv3 = Conv2D(128, 3, activation='relu')(conv_drop2)\n",
    "max3 = MaxPooling2D()(conv3)\n",
    "conv_drop3 = SpatialDropout2D(0.1)(max3)\n",
    "flatten = Flatten()(conv_drop3)\n",
    "densa1 = Dense(512, activation='relu')(flatten)\n",
    "densa_drop1 = Dropout(0.1)(densa1)\n",
    "densa2 = Dense(512, activation='relu')(densa_drop1)\n",
    "densa_drop2 = Dropout(0.1)(densa2)\n",
    "saida = Dense(18, activation='softmax')(densa_drop2)\n",
    "model = Model(entrada, saida)"
   ]
  },
  {
   "cell_type": "code",
   "execution_count": 4,
   "metadata": {},
   "outputs": [
    {
     "name": "stderr",
     "output_type": "stream",
     "text": [
      "W1001 14:47:56.433434 10848 deprecation_wrapper.py:119] From C:\\Users\\giova\\Anaconda3\\envs\\cnns\\lib\\site-packages\\keras\\backend\\tensorflow_backend.py:174: The name tf.get_default_session is deprecated. Please use tf.compat.v1.get_default_session instead.\n",
      "\n"
     ]
    }
   ],
   "source": [
    "model.load_weights(\"coinnet_epoch_33.hdf5\")"
   ]
  },
  {
   "cell_type": "code",
   "execution_count": 11,
   "metadata": {},
   "outputs": [],
   "source": [
    "x_test = []\n",
    "x_test.append(img)\n",
    "x_test = np.array(x_test)"
   ]
  },
  {
   "cell_type": "code",
   "execution_count": 12,
   "metadata": {},
   "outputs": [
    {
     "data": {
      "text/plain": [
       "2"
      ]
     },
     "execution_count": 12,
     "metadata": {},
     "output_type": "execute_result"
    }
   ],
   "source": [
    "pred = model.predict(x_test)\n",
    "np.argmax(pred)"
   ]
  },
  {
   "cell_type": "code",
   "execution_count": null,
   "metadata": {},
   "outputs": [],
   "source": []
  }
 ],
 "metadata": {
  "kernelspec": {
   "display_name": "Python 3",
   "language": "python",
   "name": "python3"
  },
  "language_info": {
   "codemirror_mode": {
    "name": "ipython",
    "version": 3
   },
   "file_extension": ".py",
   "mimetype": "text/x-python",
   "name": "python",
   "nbconvert_exporter": "python",
   "pygments_lexer": "ipython3",
   "version": "3.7.4"
  }
 },
 "nbformat": 4,
 "nbformat_minor": 4
}
