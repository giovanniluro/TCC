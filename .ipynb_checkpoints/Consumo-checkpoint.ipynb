{
 "cells": [
  {
   "cell_type": "code",
   "execution_count": 5,
   "metadata": {},
   "outputs": [],
   "source": [
    "from keras.models import Model\n",
    "from keras.layers import Input, Dense, Conv2D, MaxPooling2D, Flatten\n",
    "from keras.layers import Dropout, SpatialDropout2D\n",
    "from keras.callbacks import ModelCheckpoint\n",
    "from keras.optimizers import SGD\n",
    "from keras.utils import to_categorical\n",
    "import cv2\n",
    "import numpy as np\n",
    "import os\n",
    "import matplotlib.pyplot as plt\n",
    "from sklearn.metrics import classification_report,confusion_matrix"
   ]
  },
  {
   "cell_type": "code",
   "execution_count": 3,
   "metadata": {},
   "outputs": [],
   "source": [
    "def classifica(num):\n",
    "    switcher = {\n",
    "        1: \"Moeda de 1 Real (Anverso), segunda família\",\n",
    "        2: \"Moeda de 1 Real (Verso), primeira família\",\n",
    "        3: \"Moeda de 1 Real (Verso), segunda família\",\n",
    "        4: \"Valor não identificável, Anverso da primeira família\",\n",
    "        5: \"Moeda de 5 Centavos (Anverso), segunda família\",\n",
    "        6: \"Moeda de 5 Centavos (Verso), primeira família\",\n",
    "        7: \"Moeda de 5 Centavos (Verso), segunda família\",\n",
    "        8: \"Moeda de 10 Centavos (Anverso), segunda família\",\n",
    "        9: \"Moeda de 10 Centavos (Verso), primeira família\",\n",
    "        10: \"Moeda de 10 Centavos (Verso), segunda família\",\n",
    "        11: \"Moeda de 25 Centavos (Anverso), primeira família\",\n",
    "        12: \"Moeda de 25 Centavos (Anverso), segunda família\",\n",
    "        13: \"Moeda de 25 Centavos (Verso), primeira família\",\n",
    "        14: \"Moeda de 25 Centavos (Verso), segunda família\",\n",
    "        15: \"Moeda de 50 Centavos (Verso), primeira família\",\n",
    "        16: \"Moeda de 50 Centavos (Anverso), segunda família\",\n",
    "        17: \"Moeda de 50 Centavos (Verso), segunda família\",\n",
    "    }\n",
    "    return switcher.get(num, \"Moeda não reconhecida\")"
   ]
  },
  {
   "cell_type": "markdown",
   "metadata": {},
   "source": [
    "## Recebendo a imagem a ser classificada"
   ]
  },
  {
   "cell_type": "code",
   "execution_count": null,
   "metadata": {},
   "outputs": [],
   "source": [
    "img_consumo = img = cv2.imread(\"C:\\\\Users\\\\giova\\\\Desktop\\\\TCC\\\\Dataset\\\\Normal\\\\10_1.jpg\")\n",
    "plt.title(\"Moeda Lida:\")\n",
    "plt.imshow(cv2.cvtColor(img_consumo, cv2.COLOR_BGR2RGB))\n",
    "plt.show()"
   ]
  },
  {
   "cell_type": "markdown",
   "metadata": {},
   "source": [
    "## Definindo a Arquitetura da rede"
   ]
  },
  {
   "cell_type": "code",
   "execution_count": null,
   "metadata": {},
   "outputs": [],
   "source": [
    "entrada = Input(shape=(img.shape))\n",
    "conv1 = Conv2D(32, 3, activation='relu')(entrada)\n",
    "max1 = MaxPooling2D()(conv1)\n",
    "conv_drop1 = SpatialDropout2D(0.025)(max1)\n",
    "conv2 = Conv2D(64, 3, activation='relu')(conv_drop1)\n",
    "max2 = MaxPooling2D()(conv2)\n",
    "conv_drop2 = SpatialDropout2D(0.05)(max2)\n",
    "conv3 = Conv2D(128, 3, activation='relu')(conv_drop2)\n",
    "max3 = MaxPooling2D()(conv3)\n",
    "conv_drop3 = SpatialDropout2D(0.1)(max3)\n",
    "flatten = Flatten()(conv_drop3)\n",
    "densa1 = Dense(512, activation='relu')(flatten)\n",
    "densa_drop1 = Dropout(0.1)(densa1)\n",
    "densa2 = Dense(512, activation='relu')(densa_drop1)\n",
    "densa_drop2 = Dropout(0.1)(densa2)\n",
    "saida = Dense(18, activation='softmax')(densa_drop2)\n",
    "model = Model(entrada, saida)"
   ]
  },
  {
   "cell_type": "markdown",
   "metadata": {},
   "source": [
    "## Carregando um modelo já treinado"
   ]
  },
  {
   "cell_type": "code",
   "execution_count": null,
   "metadata": {},
   "outputs": [],
   "source": [
    "model.load_weights(\"coinnet_epoch_33.hdf5\")"
   ]
  },
  {
   "cell_type": "markdown",
   "metadata": {},
   "source": [
    "## Classificando a moeda"
   ]
  },
  {
   "cell_type": "code",
   "execution_count": null,
   "metadata": {},
   "outputs": [],
   "source": [
    "img = []\n",
    "img.append(img_consumo)\n",
    "img = np.array(img)\n",
    "pred = model.predict(img)\n",
    "print(classifica(np.argmax(pred)))"
   ]
  }
 ],
 "metadata": {
  "kernelspec": {
   "display_name": "Python 3",
   "language": "python",
   "name": "python3"
  },
  "language_info": {
   "codemirror_mode": {
    "name": "ipython",
    "version": 3
   },
   "file_extension": ".py",
   "mimetype": "text/x-python",
   "name": "python",
   "nbconvert_exporter": "python",
   "pygments_lexer": "ipython3",
   "version": "3.7.4"
  }
 },
 "nbformat": 4,
 "nbformat_minor": 4
}
