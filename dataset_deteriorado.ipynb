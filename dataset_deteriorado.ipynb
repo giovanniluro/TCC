{
 "cells": [
  {
   "cell_type": "code",
   "execution_count": 35,
   "metadata": {},
   "outputs": [],
   "source": [
    "import os\n",
    "import random\n",
    "import cv2\n",
    "import numpy as np\n",
    "import matplotlib.pyplot as plt"
   ]
  },
  {
   "cell_type": "code",
   "execution_count": 36,
   "metadata": {},
   "outputs": [],
   "source": [
    "def sp_noise(image,prob):\n",
    "    output = np.zeros(image.shape,np.uint8)\n",
    "    thres = 1 - prob \n",
    "    for i in range(image.shape[0]):\n",
    "        for j in range(image.shape[1]):\n",
    "            rdn = random.random()\n",
    "            if rdn < prob:\n",
    "                output[i][j] = 0\n",
    "            elif rdn > thres:\n",
    "                output[i][j] = 255\n",
    "            else:\n",
    "                output[i][j] = image[i][j]\n",
    "    return output"
   ]
  },
  {
   "cell_type": "code",
   "execution_count": 46,
   "metadata": {},
   "outputs": [],
   "source": [
    "for files in os.listdir(\"C:\\\\Users\\\\giova\\\\Desktop\\\\TCC\\\\Dataset\\\\Normal\"):\n",
    "    img = cv2.imread(\"C:\\\\Users\\\\giova\\\\Desktop\\\\TCC\\\\Dataset\\\\Normal\\\\\" + files)\n",
    "    img_half = np.copy(img)\n",
    "    img_half[:,64:,:] = 255;\n",
    "    img_sp = sp_noise(img, 0.03)\n",
    "    cv2.imwrite(\"C:\\\\Users\\\\giova\\\\Desktop\\\\TCC\\\\Dataset\\\\Salt_pepper\\\\\"+files, img_sp)\n",
    "    cv2.imwrite(\"C:\\\\Users\\\\giova\\\\Desktop\\\\TCC\\\\Dataset\\\\Metade\\\\\"+files, img_half)\n",
    "    "
   ]
  }
 ],
 "metadata": {
  "kernelspec": {
   "display_name": "Python 3",
   "language": "python",
   "name": "python3"
  },
  "language_info": {
   "codemirror_mode": {
    "name": "ipython",
    "version": 3
   },
   "file_extension": ".py",
   "mimetype": "text/x-python",
   "name": "python",
   "nbconvert_exporter": "python",
   "pygments_lexer": "ipython3",
   "version": "3.7.4"
  }
 },
 "nbformat": 4,
 "nbformat_minor": 4
}
